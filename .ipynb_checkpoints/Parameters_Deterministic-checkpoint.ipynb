{
 "cells": [
  {
   "cell_type": "markdown",
   "id": "d80f48e5-5227-4a1c-b02e-7b62cf1ad53a",
   "metadata": {},
   "source": [
    "## PARAMETERS and FUNCTIONS\n",
    "\n",
    "#### Stage 1 - Sets and Parameters"
   ]
  },
  {
   "cell_type": "code",
   "execution_count": 5,
   "id": "57f5dff9-1ed1-48bc-a5f9-4eaf36bf6e7a",
   "metadata": {},
   "outputs": [],
   "source": [
    "from itertools import product\n",
    "\n",
    "#Sets\n",
    "R = 6\n",
    "T = 12\n",
    "RT = list(product(range(R), range(T)))\n",
    "\n",
    "#Parameters\n",
    "s_min = [1, 1, 1, 1, 1, 1]         #min number of times reactor r can start production\n",
    "s_max = [2, 2, 2, 2, 2, 2]         #max number of times reactor r can start production\n",
    "l_min = [1, 1, 1, 1, 1, 1]         #min duration of production runs of reactor r\n",
    "l_max = [3, 3, 3, 3, 3, 3]         #max duration of production runs of reactor r\n",
    "b_min = [1, 1, 1, 1, 1, 1]         #min number of outtages for reactor r\n",
    "q_min = [1, 1, 1, 1, 1, 1]         #min duration of an outtage for reactor r\n",
    "q_ = [1, 1, 1, 1, 1, 1]            #min duration of an extended outtage for reactor r"
   ]
  },
  {
   "cell_type": "markdown",
   "id": "15b14475-70cb-4e18-9eba-1b6c81a014cb",
   "metadata": {},
   "source": [
    "#### Stage 2 - Sets and Parameters"
   ]
  },
  {
   "cell_type": "code",
   "execution_count": null,
   "id": "ac1209ba-9207-4a5d-88d6-ab85a863b5e5",
   "metadata": {},
   "outputs": [],
   "source": []
  },
  {
   "cell_type": "markdown",
   "id": "a4cd7c8d-fbf1-4a92-8667-edc39f12da77",
   "metadata": {},
   "source": [
    "#### Functions"
   ]
  },
  {
   "cell_type": "code",
   "execution_count": 6,
   "id": "4fa9b206-396b-463b-8f00-d2be6044cd72",
   "metadata": {},
   "outputs": [],
   "source": [
    "import pandas as pd\n",
    "\n",
    "def tupledict_to_dataframe(tupledict):\n",
    "    # Get all unique keys from the tuples\n",
    "    all_row_keys = set()\n",
    "    all_col_keys = set()\n",
    "    for row_key, col_key in tupledict.keys():\n",
    "        all_row_keys.add(row_key)\n",
    "        all_col_keys.add(col_key)\n",
    "\n",
    "    # Initialize the table as a dictionary of dictionaries\n",
    "    table = {}\n",
    "    for row_key in all_row_keys:\n",
    "        table[row_key] = {}\n",
    "        for col_key in all_col_keys:\n",
    "            table[row_key][col_key] = None\n",
    "\n",
    "    # Populate the table\n",
    "    for (row_key, col_key), value in tupledict.items():\n",
    "        table[row_key][col_key] = value\n",
    "\n",
    "    # Convert the table dictionary to a DataFrame\n",
    "    df = pd.DataFrame.from_dict(table, orient='index')\n",
    "\n",
    "    # Rename the index and columns\n",
    "    df.index.name = 'Row'\n",
    "    df.columns.name = 'Column'\n",
    "\n",
    "    return df"
   ]
  },
  {
   "cell_type": "code",
   "execution_count": 8,
   "id": "3d766dbb-3d4f-4b53-a088-64b528c71c43",
   "metadata": {},
   "outputs": [],
   "source": [
    "import pandas as pd\n",
    "import matplotlib.pyplot as plt\n",
    "import numpy as np\n",
    "\n",
    "def plotting(df):\n",
    "    # Convert non-zero values to 1 and zero values to 0\n",
    "    binary_data = df.applymap(lambda x: 1 if x != 0 else 0)\n",
    "    \n",
    "    # Plotting\n",
    "    fig, ax = plt.subplots()\n",
    "    \n",
    "    # Iterate through each row and plot horizontal bars for 1s\n",
    "    for i, (row_label, row_data) in enumerate(binary_data.iterrows()):\n",
    "        for j, value in enumerate(row_data):\n",
    "            if value == 1:\n",
    "                ax.barh(i, 1, left=j, color='mediumslateblue')\n",
    "    \n",
    "    # Set y ticks and labels\n",
    "    ax.set_yticks(range(len(binary_data)))\n",
    "    ax.set_yticklabels(binary_data.index)\n",
    "    \n",
    "    # Set x ticks and labels\n",
    "    ax.set_xticks(np.arange(0.5, len(binary_data.columns) + 0.5, 1))\n",
    "    ax.set_xticklabels(binary_data.columns)\n",
    "    \n",
    "    # Set labels and title\n",
    "    ax.set_ylabel('Reactor')\n",
    "    ax.set_xlabel('Time')\n",
    "    plt.title('Gantt Chart-Like Representation')\n",
    "    \n",
    "    # Invert y-axis to have the first task at the top\n",
    "    plt.gca().invert_yaxis()\n",
    "    \n",
    "    # Remove spines\n",
    "    ax.spines['right'].set_visible(False)\n",
    "    ax.spines['top'].set_visible(False)\n",
    "    \n",
    "    # Show plot\n",
    "    return plt.show()"
   ]
  },
  {
   "cell_type": "code",
   "execution_count": null,
   "id": "ec7ff98f-dd6e-4c5c-a6da-21296d0ec336",
   "metadata": {},
   "outputs": [],
   "source": []
  },
  {
   "cell_type": "code",
   "execution_count": null,
   "id": "862bce0b-6776-4c55-b865-553c62890aaa",
   "metadata": {},
   "outputs": [],
   "source": []
  }
 ],
 "metadata": {
  "kernelspec": {
   "display_name": "Python 3 (ipykernel)",
   "language": "python",
   "name": "python3"
  },
  "language_info": {
   "codemirror_mode": {
    "name": "ipython",
    "version": 3
   },
   "file_extension": ".py",
   "mimetype": "text/x-python",
   "name": "python",
   "nbconvert_exporter": "python",
   "pygments_lexer": "ipython3",
   "version": "3.10.12"
  }
 },
 "nbformat": 4,
 "nbformat_minor": 5
}
