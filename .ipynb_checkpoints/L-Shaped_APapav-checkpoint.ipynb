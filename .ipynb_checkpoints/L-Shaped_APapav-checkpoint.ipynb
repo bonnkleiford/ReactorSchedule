{
 "cells": [
  {
   "cell_type": "markdown",
   "metadata": {},
   "source": [
    "## BENDERS DECOMPOSITION METHOD\n",
    "### Prepared by Bikey SERANILLA"
   ]
  },
  {
   "cell_type": "markdown",
   "metadata": {},
   "source": [
    "#### Master Model\n",
    "\n",
    "$$\\begin{align}\\min\\ & 150x_1 + 230x_2 + 260x_3 + V \\\\\n",
    "\\end{align}$$\n",
    "\n",
    "$$\\begin{align}s.t. \\\\\n",
    "& x_1 + 2x_2 + x3 \\leq 500 \\\\\n",
    "& V \\geq 0 \\\\\n",
    "&  V \\geq (b-F^y)^Tu \\\\\n",
    "& V \\geq 0, y \\in \\mathbb{Z}\\\\\n",
    "\\end{align}$$ \n",
    "\n",
    "#### Subroblem Model\n",
    "\n",
    "$$\\begin{align}\\min\\ & - 170w_{11} + 238y_{11} - 150w_{21} + 210y_{21} - 36w_{31} - 10w_{41}\\\\\n",
    "\\end{align}$$\n",
    "$$\\begin{align}s.t. \\\\\n",
    "& \\xi_1 x_1 + y_{11} - w_{11} \\geq 200 \\\\\n",
    "& \\xi_2 x_2 + y_{21} - w_{21} \\geq 240 \\\\\n",
    "& w_{31} + w_{41} \\leq \\xi_3 x_3 \\\\\n",
    "& w_{31} \\leq 6000 \\\\\n",
    "& x_1, x_2 \\geq 0\\\\\n",
    "\\end{align}$$ \n",
    "\n",
    "$$\\begin{align}\n",
    "\\xi = [[3, 3.6, 24],\n",
    "[2.5, 3, 20],\n",
    "[2, 2.4, 16]]\\\\\n",
    "\\end{align}$$"
   ]
  },
  {
   "cell_type": "code",
   "execution_count": 1,
   "metadata": {},
   "outputs": [],
   "source": [
    "import gurobipy as gp\n",
    "from gurobipy import GRB\n",
    "from numpy.random import randint, binomial\n",
    "import numpy as np\n",
    "from math import sqrt\n",
    "from seaborn import distplot\n",
    "from math import inf, isclose\n",
    "import math as math"
   ]
  },
  {
   "cell_type": "code",
   "execution_count": 2,
   "metadata": {},
   "outputs": [],
   "source": [
    "# Parameters\n",
    "I = 2\n",
    "objective_params_1 = np.array([100, 150])\n",
    "W = np.array([[6, 10],\n",
    "              [8, 5]])\n",
    "RHS = np.array([[60],\n",
    "              [80]])\n",
    "SCENARIOS = np.array([[500, 100, -24, -28],\n",
    "                      [300, 300, -28, -32]])"
   ]
  },
  {
   "cell_type": "code",
   "execution_count": 10,
   "metadata": {},
   "outputs": [],
   "source": [
    "# MASTER PROBLEM\n",
    "masterProblem = gp.Model()\n",
    "masterProblem.Params.LogToConsole = 0\n",
    "masterProblem.ModelSense = GRB.MINIMIZE\n",
    "x = masterProblem.addVars(I, vtype=GRB.CONTINUOUS, lb=[40, 20], name='x')\n",
    "V = masterProblem.addVar(lb=0, name='V')\n",
    "masterProblem.addConstr(gp.quicksum(x[i] for i in range(I)) <= 120)\n",
    "masterProblem.addConstr(V >= 0)\n",
    "masterProblem.setObjective(gp.quicksum(objective_params_1[i]*x[i] for i in range(2)) + V, GRB.MINIMIZE)"
   ]
  },
  {
   "cell_type": "code",
   "execution_count": 11,
   "metadata": {},
   "outputs": [],
   "source": [
    "# SUBPROBLEM\n",
    "def subProblem(xi, x):\n",
    "    subProblem = gp.Model()\n",
    "    subProblem.Params.LogToConsole = 0\n",
    "    subProblem.ModelSense = GRB.MINIMIZE\n",
    "    y = subProblem.addVars(I, vtype=GRB.CONTINUOUS, name='y')\n",
    "    subProblem.addConstr(gp.quicksum(W[0][i]*y[i] for i in range(I)) <= RHS[0]*x[0], name=\"constr1\")\n",
    "    subProblem.addConstr(gp.quicksum(W[1][i]*y[i] for i in range(I)) <= RHS[1]*x[1], name=\"constr2\")\n",
    "    subProblem.addConstr(y[0] <= xi[0], name=\"constr3\")\n",
    "    subProblem.addConstr(y[1] <= xi[1], name=\"constr4\")\n",
    "    subProblem.setObjective(gp.quicksum(xi[2:][i]*y[i] for i in range(I)), GRB.MINIMIZE)\n",
    "    subProblem.optimize()\n",
    "    y_star = subProblem.getAttr('X', y)\n",
    "    u_star = subProblem.Pi\n",
    "    ObjVal = subProblem.ObjVal\n",
    "\n",
    "    return y_star, u_star, ObjVal\n",
    "    "
   ]
  },
  {
   "cell_type": "code",
   "execution_count": 33,
   "metadata": {},
   "outputs": [
    {
     "name": "stdout",
     "output_type": "stream",
     "text": [
      "Duals =  [[  0.    -3.     0.   -13.  ]\n",
      " [ -2.32  -1.76   0.     0.  ]]\n",
      "Ys =  [[137.5 100. ]\n",
      " [ 80.  192. ]]\n",
      "ObjVal =  [-6100. -8384.]\n",
      "Duals =  [[  0.    -3.     0.   -13.  ]\n",
      " [ -2.32  -1.76   0.     0.  ]]\n",
      "Ys =  [[137.5 100. ]\n",
      " [ 80.  192. ]]\n",
      "ObjVal =  [-6100. -8384.]\n"
     ]
    }
   ],
   "source": [
    "# L-SHAPED DECOMPOSITION ALGORITHM\n",
    "\n",
    "J = 2\n",
    "UB = math.inf\n",
    "LB = 0\n",
    "\n",
    "#Scenarios\n",
    "S = 2\n",
    "SCENARIOS = np.array([[500, 100, -24, -28],\n",
    "                      [300, 300, -28, -32]])\n",
    "h = np.array([[0, 0, 500, 100],\n",
    "              [0, 0, 300, 300]])\n",
    "T = np.array([[-60, 0, 0, 0],\n",
    "              [0, -80, 0, 0]])\n",
    "PROB = [0.4, 0.6]\n",
    "\n",
    "#Second-stage Values\n",
    "ssp_y = np.zeros((S,I)) #y_variables\n",
    "ssp_u = np.zeros((S,4))     #duals / constraints\n",
    "ssp_o = np.zeros((S))       #objective value\n",
    "\n",
    "for j in range(J):\n",
    "    j = j + 1\n",
    "\n",
    "    #Step 1 : Solve first-stage problem\n",
    "    FSP = masterProblem.optimize()\n",
    "    FSP_ObjVal = masterProblem.ObjVal\n",
    "    x_j = masterProblem.getAttr('X', x)\n",
    "    # print(x_j)\n",
    "    \n",
    "    #Step 2: Solve each second-stage problem\n",
    "    for s in range(S):\n",
    "        #ssp = [y_star, w_star, u_star, ObjVal]\n",
    "        ssp = subProblem(SCENARIOS[s], x_j)\n",
    "        ssp_y[s] = ssp[0].values()\n",
    "        ssp_u[s] = np.array(ssp[1])\n",
    "        ssp_o[s] = ssp[2]\n",
    "    print(\"Duals = \", ssp_u)\n",
    "    print(\"Ys = \", ssp_y)\n",
    "    print(\"ObjVal = \", ssp_o)\n",
    "    \n",
    "    #Step 3: Generate optimality cuts\n",
    "    \n",
    "    # #Multi-cut approach\n",
    "    # E = np.dot(ssp_u[:, :-1], SCENARIO.T)\n",
    "    # e = np.dot(ssp_u.T, h)\n",
    "    # for s in range(S):\n",
    "    #     masterProblem.addConstr(V >= e[s] - gp.quicksum(E[s][i]*x[i] for i in range(CROPS)))\n",
    "\n",
    "    # Single-cut approach\n",
    "    # SCENARIOS_constraint = np.insert(SCENARIO, SCENARIO.shape[1], 0, axis=1)\n",
    "    E = sum(PROB[i]*np.dot(ssp_u,T.T)[i] for i in range(len(SCENARIOS)))\n",
    "    e = sum(PROB[i]*np.dot(ssp_u[i].T,h[i]) for i in range(len(SCENARIOS)))\n",
    "    masterProblem.addConstr(V >= e - gp.quicksum(E[i]*x[i] for i in range(len(SCENARIOS))))\n",
    "    # print(E)\n",
    "#     # Update bounds\n",
    "#     LB = max(LB, FSP_ObjVal)\n",
    "#     UB = min(UB, LB + np.mean(ssp_o))\n",
    "#     bound = UB - LB\n",
    "\n",
    "# A = masterProblem.ObjVal\n",
    "# # x_star = masterProblem.getAttr('X', x)\n",
    "# # x_star\n",
    "# LB"
   ]
  },
  {
   "cell_type": "code",
   "execution_count": null,
   "metadata": {},
   "outputs": [],
   "source": []
  }
 ],
 "metadata": {
  "kernelspec": {
   "display_name": "Python 3 (ipykernel)",
   "language": "python",
   "name": "python3"
  },
  "language_info": {
   "codemirror_mode": {
    "name": "ipython",
    "version": 3
   },
   "file_extension": ".py",
   "mimetype": "text/x-python",
   "name": "python",
   "nbconvert_exporter": "python",
   "pygments_lexer": "ipython3",
   "version": "3.10.12"
  }
 },
 "nbformat": 4,
 "nbformat_minor": 4
}
