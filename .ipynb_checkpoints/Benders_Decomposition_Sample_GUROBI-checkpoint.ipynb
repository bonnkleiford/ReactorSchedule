{
 "cells": [
  {
   "cell_type": "markdown",
   "metadata": {},
   "source": [
    "## BENDERS DECOMPOSITION METHOD\n",
    "### Prepared by Bikey SERANILLA\n",
    "#### Problem Model\n",
    "\n",
    "$$\\begin{align}\\min\\ & 5x_1 + 6x_2 + 3y \\\\\n",
    "\\end{align}$$\n",
    "$$\\begin{align}s.t. \\\\\n",
    "& x_1 + 2x_2 + y \\geq 2 \\\\\n",
    "&  2x_1 - x_2 + 3y \\geq 5 \\\\\n",
    "& x_1, x_2\\geq 0, y \\in \\mathbb{Z}\\\\\n",
    "\\end{align}$$ \n"
   ]
  },
  {
   "cell_type": "markdown",
   "metadata": {},
   "source": [
    "#### Master Model\n",
    "\n",
    "$$\\begin{align}\\min\\ & 3y + V \\\\\n",
    "\\end{align}$$\n",
    "\n",
    "$$\\begin{align}s.t. \\\\\n",
    "& V \\geq 0 \\\\\n",
    "&  V \\geq (b-F^y)^Tu \\\\\n",
    "& V \\geq 0, y \\in \\mathbb{Z}\\\\\n",
    "\\end{align}$$ \n",
    "\n",
    "#### Subroblem Model\n",
    "\n",
    "$$\\begin{align}\\min\\ & 5x_1 + 6x_2\\\\\n",
    "\\end{align}$$\n",
    "$$\\begin{align}s.t. \\\\\n",
    "& x_1 + 2x_2 \\geq 2 - y_0 \\\\\n",
    "&  2x_1 - x_2 \\geq 5 - 3y_0 \\\\\n",
    "& x_1, x_2 \\geq 0\\\\\n",
    "\\end{align}$$ "
   ]
  },
  {
   "cell_type": "code",
   "execution_count": 1,
   "metadata": {},
   "outputs": [],
   "source": [
    "import gurobipy as gp\n",
    "from gurobipy import GRB\n",
    "from numpy.random import randint, binomial\n",
    "import numpy as np\n",
    "from math import sqrt\n",
    "from seaborn import distplot\n",
    "from math import inf, isclose\n",
    "import math as math"
   ]
  },
  {
   "cell_type": "code",
   "execution_count": 3,
   "metadata": {},
   "outputs": [
    {
     "name": "stdout",
     "output_type": "stream",
     "text": [
      "Set parameter Username\n",
      "Academic license - for non-commercial use only - expires 2025-04-23\n"
     ]
    }
   ],
   "source": [
    "# MASTER PROBLEM\n",
    "masterProblem = gp.Model()\n",
    "masterProblem.Params.LogToConsole = 0\n",
    "masterProblem.ModelSense = GRB.MINIMIZE\n",
    "y = masterProblem.addVar(lb=0, name='y', vtype=GRB.INTEGER)\n",
    "V = masterProblem.addVar(lb=0, name='V')\n",
    "masterProblem.addConstr(V >= 0)\n",
    "masterProblem.setObjective(V + 3*y)"
   ]
  },
  {
   "cell_type": "code",
   "execution_count": 4,
   "metadata": {},
   "outputs": [
    {
     "ename": "GurobiError",
     "evalue": "Variable not in model",
     "output_type": "error",
     "traceback": [
      "\u001b[0;31m---------------------------------------------------------------------------\u001b[0m",
      "\u001b[0;31mGurobiError\u001b[0m                               Traceback (most recent call last)",
      "Cell \u001b[0;32mIn[4], line 8\u001b[0m\n\u001b[1;32m      6\u001b[0m x1 \u001b[38;5;241m=\u001b[39m subProblem\u001b[38;5;241m.\u001b[39maddVar(lb\u001b[38;5;241m=\u001b[39m\u001b[38;5;241m0\u001b[39m, name\u001b[38;5;241m=\u001b[39m\u001b[38;5;124m'\u001b[39m\u001b[38;5;124mx1\u001b[39m\u001b[38;5;124m'\u001b[39m)\n\u001b[1;32m      7\u001b[0m x2 \u001b[38;5;241m=\u001b[39m subProblem\u001b[38;5;241m.\u001b[39maddVar(lb\u001b[38;5;241m=\u001b[39m\u001b[38;5;241m0\u001b[39m, name\u001b[38;5;241m=\u001b[39m\u001b[38;5;124m'\u001b[39m\u001b[38;5;124mx2\u001b[39m\u001b[38;5;124m'\u001b[39m)\n\u001b[0;32m----> 8\u001b[0m \u001b[43msubProblem\u001b[49m\u001b[38;5;241;43m.\u001b[39;49m\u001b[43maddConstr\u001b[49m\u001b[43m(\u001b[49m\u001b[43mx1\u001b[49m\u001b[43m \u001b[49m\u001b[38;5;241;43m+\u001b[39;49m\u001b[43m \u001b[49m\u001b[38;5;241;43m2\u001b[39;49m\u001b[38;5;241;43m*\u001b[39;49m\u001b[43mx2\u001b[49m\u001b[43m \u001b[49m\u001b[38;5;241;43m+\u001b[39;49m\u001b[43m \u001b[49m\u001b[43my\u001b[49m\u001b[43m \u001b[49m\u001b[38;5;241;43m>\u001b[39;49m\u001b[38;5;241;43m=\u001b[39;49m\u001b[43m \u001b[49m\u001b[38;5;241;43m2\u001b[39;49m\u001b[43m,\u001b[49m\u001b[43m \u001b[49m\u001b[43mname\u001b[49m\u001b[38;5;241;43m=\u001b[39;49m\u001b[38;5;124;43m\"\u001b[39;49m\u001b[38;5;124;43mconstr1\u001b[39;49m\u001b[38;5;124;43m\"\u001b[39;49m\u001b[43m)\u001b[49m\n\u001b[1;32m      9\u001b[0m subProblem\u001b[38;5;241m.\u001b[39maddConstr(\u001b[38;5;241m2\u001b[39m\u001b[38;5;241m*\u001b[39mx1 \u001b[38;5;241m-\u001b[39m x2 \u001b[38;5;241m+\u001b[39m \u001b[38;5;241m3\u001b[39m\u001b[38;5;241m*\u001b[39my \u001b[38;5;241m>\u001b[39m\u001b[38;5;241m=\u001b[39m \u001b[38;5;241m5\u001b[39m, name\u001b[38;5;241m=\u001b[39m\u001b[38;5;124m\"\u001b[39m\u001b[38;5;124mconstr2\u001b[39m\u001b[38;5;124m\"\u001b[39m)\n\u001b[1;32m     10\u001b[0m subProblem\u001b[38;5;241m.\u001b[39msetObjective(\u001b[38;5;241m5\u001b[39m\u001b[38;5;241m*\u001b[39mx1 \u001b[38;5;241m+\u001b[39m \u001b[38;5;241m6\u001b[39m\u001b[38;5;241m*\u001b[39mx2)\n",
      "File \u001b[0;32msrc/gurobipy/model.pxi:3672\u001b[0m, in \u001b[0;36mgurobipy.Model.addConstr\u001b[0;34m()\u001b[0m\n",
      "File \u001b[0;32msrc/gurobipy/model.pxi:3385\u001b[0m, in \u001b[0;36mgurobipy.Model.__addConstr\u001b[0;34m()\u001b[0m\n",
      "\u001b[0;31mGurobiError\u001b[0m: Variable not in model"
     ]
    }
   ],
   "source": [
    "# SUBPROBLEM\n",
    "def subProblem(y):\n",
    "    subProblem = gp.Model()\n",
    "    subProblem.Params.LogToConsole = 0\n",
    "    subProblem.ModelSense = GRB.MINIMIZE\n",
    "    x1 = subProblem.addVar(lb=0, name='x1')\n",
    "    x2 = subProblem.addVar(lb=0, name='x2')\n",
    "    subProblem.addConstr(x1 + 2*x2 + y >= 2, name=\"constr1\")\n",
    "    subProblem.addConstr(2*x1 - x2 + 3*y >= 5, name=\"constr2\")\n",
    "    subProblem.setObjective(5*x1 + 6*x2)\n",
    "    subProblem.optimize()\n",
    "    x_star = subProblem.getAttr('X', [x1, x2])\n",
    "    u_star = subProblem.Pi\n",
    "    UB = subProblem.ObjVal\n",
    "\n",
    "    return x_star, u_star, UB"
   ]
  },
  {
   "cell_type": "code",
   "execution_count": 90,
   "metadata": {},
   "outputs": [
    {
     "name": "stdout",
     "output_type": "stream",
     "text": [
      "1 : Bound = [ 12.5  , 6.0 ]\n",
      "2 : Bound = [ 0.0  , 6.0 ]\n",
      "Optimal Objective Function:  6.0\n",
      "Optimal Value of x1:  0.0\n",
      "Optimal Value of x2:  0\n",
      "Optimal Value of y:  [2.0]\n"
     ]
    }
   ],
   "source": [
    "# BENDERS DECOMPOSITION ALGORITHM\n",
    "\n",
    "ε = 0.0001\n",
    "UB = math.inf\n",
    "LB = 0\n",
    "bound = UB - LB\n",
    "k = 0\n",
    "y_k = [0]\n",
    "\n",
    "#Parameters\n",
    "b = np.array((2, 5))\n",
    "F_y = np.array((y, 3*y))\n",
    "    \n",
    "    \n",
    "while bound > ε:\n",
    "    k = k + 1\n",
    "\n",
    "    #Step 1 : Set y = y_k\n",
    "    Y = y_k[0]\n",
    "\n",
    "    #Step 2: Solve Subproblem\n",
    "    SP = subProblem(Y)\n",
    "\n",
    "    #Step 3: Update UB\n",
    "    UB = SP[2]\n",
    "    bound = UB - LB\n",
    "\n",
    "    #Step 4: Add a Benders cut\n",
    "    b = np.array((2, 5))\n",
    "    F_y = np.array((y, 3*y))\n",
    "    c = (b-F_y).T*SP[1]\n",
    "    CUT = c[0] + c[1]\n",
    "\n",
    "    masterProblem.addConstr(V >= CUT)\n",
    "    \n",
    "    #Step 5: Solve the Master Problem\n",
    "    masterProblem.optimize()\n",
    "    LB = masterProblem.ObjVal\n",
    "    y_k = masterProblem.getAttr('X', [y])\n",
    "\n",
    "    bound = UB - LB\n",
    "\n",
    "    print(k,\": Bound = [\",UB, \" ,\",LB, \"]\") \n",
    "\n",
    "print(\"Optimal Objective Function: \", LB)\n",
    "print(\"Optimal Value of x1: \", SP[1][0])\n",
    "print(\"Optimal Value of x2: \", int(SP[1][1]))\n",
    "print(\"Optimal Value of y: \", y_k)"
   ]
  },
  {
   "cell_type": "code",
   "execution_count": null,
   "metadata": {},
   "outputs": [],
   "source": [
    "# # BENDERS DECOMPOSITION ALGORITHM\n",
    "\n",
    "# # Step 1: Initialization\n",
    "# # Step 2: Solve Subproblem\n",
    "# i = subProblem(y = 0)\n",
    "\n",
    "# b = np.array((3, 4))\n",
    "# F_y = np.array((y, 3*y))\n",
    "# c = (b-F_y).T*i[1]\n",
    "# CUT = c[0] + c[1]\n",
    "# print(CUT)\n",
    "# masterProblem.addConstraint(V >= CUT)\n",
    "# masterProblem.solve()\n",
    "# a = masterProblem.getSolution(y)\n",
    "# b = masterProblem.getObjVal()"
   ]
  },
  {
   "cell_type": "code",
   "execution_count": null,
   "metadata": {},
   "outputs": [],
   "source": []
  }
 ],
 "metadata": {
  "kernelspec": {
   "display_name": "Python 3 (ipykernel)",
   "language": "python",
   "name": "python3"
  },
  "language_info": {
   "codemirror_mode": {
    "name": "ipython",
    "version": 3
   },
   "file_extension": ".py",
   "mimetype": "text/x-python",
   "name": "python",
   "nbconvert_exporter": "python",
   "pygments_lexer": "ipython3",
   "version": "3.10.12"
  }
 },
 "nbformat": 4,
 "nbformat_minor": 4
}
