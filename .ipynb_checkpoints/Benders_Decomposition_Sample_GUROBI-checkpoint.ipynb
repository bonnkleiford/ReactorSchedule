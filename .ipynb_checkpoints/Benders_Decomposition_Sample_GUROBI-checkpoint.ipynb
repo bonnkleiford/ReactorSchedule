{
 "cells": [
  {
   "cell_type": "markdown",
   "metadata": {},
   "source": [
    "## BENDERS DECOMPOSITION METHOD\n",
    "\n",
    "#### Problem Model\n",
    "\n",
    "$$\\begin{align}\\min\\ & 5x_1 + 6x_2 + 3y \\\\\n",
    "\\end{align}$$\n",
    "$$\\begin{align}s.t. \\\\\n",
    "& x_1 + 2x_2 + y \\geq 2 \\\\\n",
    "&  2x_1 - x_2 + 3y \\geq 5 \\\\\n",
    "& x_1, x_2\\geq 0, y \\in \\mathbb{Z}\\\\\n",
    "\\end{align}$$ \n"
   ]
  },
  {
   "cell_type": "markdown",
   "metadata": {},
   "source": [
    "#### Master Model\n",
    "\n",
    "$$\\begin{align}\\min\\ & 3y + V \\\\\n",
    "\\end{align}$$\n",
    "\n",
    "$$\\begin{align}s.t. \\\\\n",
    "& V \\geq 0 \\\\\n",
    "&  V \\geq (b-F^y)^Tu \\\\\n",
    "& V \\geq 0, y \\in \\mathbb{Z}\\\\\n",
    "\\end{align}$$ \n",
    "\n",
    "#### Subroblem Model\n",
    "\n",
    "$$\\begin{align}\\min\\ & 5x_1 + 6x_2\\\\\n",
    "\\end{align}$$\n",
    "$$\\begin{align}s.t. \\\\\n",
    "& x_1 + 2x_2 \\geq 2 - y_0 \\\\\n",
    "&  2x_1 - x_2 \\geq 5 - 3y_0 \\\\\n",
    "& x_1, x_2 \\geq 0\\\\\n",
    "\\end{align}$$ "
   ]
  },
  {
   "cell_type": "code",
   "execution_count": 34,
   "metadata": {},
   "outputs": [],
   "source": [
    "import gurobipy as gp\n",
    "from gurobipy import GRB\n",
    "from numpy.random import randint, binomial\n",
    "import numpy as np\n",
    "from math import sqrt\n",
    "from seaborn import distplot\n",
    "from math import inf, isclose\n",
    "import math as math"
   ]
  },
  {
   "cell_type": "code",
   "execution_count": null,
   "metadata": {},
   "outputs": [],
   "source": [
    "# MASTER PROBLEM\n",
    "masterProblem = Model()\n",
    "masterProblem.ModelSense = GRB.MINIMIZE\n",
    "y = masterProblem.addVar(lb=0, name='y')\n",
    "V = masterProblem.addVar(lb=0, name='V')\n",
    "masterProblem.addConstr(V >= 0)\n",
    "masterProblem.setObjective(V + 4*y)\n",
    "\n",
    "masterProblem.optimize()\n",
    "\n",
    "y_star = masterProblem.getAttr(y)"
   ]
  },
  {
   "cell_type": "code",
   "execution_count": 35,
   "metadata": {},
   "outputs": [
    {
     "name": "stdout",
     "output_type": "stream",
     "text": [
      "Gurobi Optimizer version 10.0.1 build v10.0.1rc0 (linux64)\n",
      "\n",
      "CPU model: Intel(R) Xeon(R) Gold 6330 CPU @ 2.00GHz, instruction set [SSE2|AVX|AVX2|AVX512]\n",
      "Thread count: 56 physical cores, 112 logical processors, using up to 32 threads\n",
      "\n",
      "Optimize a model with 2 rows, 2 columns and 4 nonzeros\n",
      "Model fingerprint: 0xaedf8766\n",
      "Coefficient statistics:\n",
      "  Matrix range     [1e+00, 2e+00]\n",
      "  Objective range  [5e+00, 6e+00]\n",
      "  Bounds range     [0e+00, 0e+00]\n",
      "  RHS range        [2e+00, 5e+00]\n",
      "Presolve removed 2 rows and 2 columns\n",
      "Presolve time: 0.01s\n",
      "Presolve: All rows and columns removed\n",
      "Iteration    Objective       Primal Inf.    Dual Inf.      Time\n",
      "       0    1.2500000e+01   0.000000e+00   0.000000e+00      0s\n",
      "\n",
      "Solved in 0 iterations and 0.01 seconds (0.00 work units)\n",
      "Optimal objective  1.250000000e+01\n"
     ]
    }
   ],
   "source": [
    "# SUBPROBLEM\n",
    "def subProblem(y):\n",
    "    subProblem = Model()\n",
    "    subProblem.ModelSense = GRB.MINIMIZE\n",
    "    x1 = subProblem.addVar(lb=0, name='x1')\n",
    "    x2 = subProblem.addVar(lb=0, name='x2')\n",
    "    subProblem.addConstr(x1 + 2*x2 + y >= 2)\n",
    "    subProblem.addConstr(2*x1 - x2 + 3*y >= 5)\n",
    "    subProblem.setObjective(5*x1 + 6*x2)\n",
    "    subProblem.optimize()\n",
    "    x_star = subProblem.getAttr('X', [x1, x2])\n",
    "    "
   ]
  },
  {
   "cell_type": "code",
   "execution_count": null,
   "metadata": {},
   "outputs": [],
   "source": [
    "# SUBPROBLEM\n",
    "def subProblem(y):\n",
    "    subProblem = xp.problem()\n",
    "    x1 = xp.var(vartype = xp.continuous)\n",
    "    x2 = xp.var(vartype = xp.continuous)\n",
    "    subProblem.addVariable(x1, x2)\n",
    "    subProblem.addConstraint(x1 + 2*x2 + y >= 2)\n",
    "    subProblem.addConstraint(2*x1 - x2 + 3*y >= 5)\n",
    "    subProblem.setObjective(5*x1 + 6*x2, sense = xp.minimize)\n",
    "    subProblem.solve()\n",
    "    x_star = subProblem.getSolution(x1, x2)\n",
    "    u_star = subProblem.getDual()\n",
    "    UB = subProblem.getObjVal()\n",
    "    \n",
    "    return x_star, u_star, UB"
   ]
  },
  {
   "cell_type": "code",
   "execution_count": null,
   "metadata": {},
   "outputs": [],
   "source": [
    "# BENDERS DECOMPOSITION ALGORITHM\n",
    "\n",
    "ε = 0.001\n",
    "UB = math.inf\n",
    "LB = 0\n",
    "bound = UB - LB\n",
    "k = 0\n",
    "y_k = 0\n",
    "\n",
    "#Parameters\n",
    "b = np.array((2, 5))\n",
    "F_y = np.array((y, 3*y))\n",
    "    \n",
    "    \n",
    "while bound > ε:\n",
    "    k = k + 1\n",
    "\n",
    "    #Step 1 : Set y = y_k\n",
    "    Y = y_k\n",
    "\n",
    "    #Step 2: Solve Subproblem\n",
    "    SP = subProblem(Y)\n",
    "\n",
    "    #Step 3: Update UB\n",
    "    UB = SP[2]\n",
    "    bound = UB - LB\n",
    "\n",
    "    #Step 4: Add a Benders cut\n",
    "    b = np.array((2, 5))\n",
    "    F_y = np.array((y, 3*y))\n",
    "    c = (b-F_y).T*SP[1]\n",
    "    CUT = c[0] + c[1]\n",
    "\n",
    "    masterProblem.addConstraint(V >= CUT)\n",
    "    \n",
    "    #Step 5: Solve the Master Problem\n",
    "    masterProblem.solve()\n",
    "    LB = masterProblem.getObjVal()\n",
    "    y_k = masterProblem.getSolution(y)\n",
    "    \n",
    "    bound = UB - LB\n",
    "\n",
    "print(\"Optimal Objective Function: \", LB)\n",
    "print(\"Optimal Value of x1: \", SP[1][0])\n",
    "print(\"Optimal Value of x2: \", int(SP[1][1]))\n",
    "print(\"Optimal Value of y: \", y_k)"
   ]
  },
  {
   "cell_type": "code",
   "execution_count": null,
   "metadata": {},
   "outputs": [],
   "source": [
    "# # BENDERS DECOMPOSITION ALGORITHM\n",
    "\n",
    "# # Step 1: Initialization\n",
    "# # Step 2: Solve Subproblem\n",
    "# i = subProblem(y = 0)\n",
    "\n",
    "# b = np.array((3, 4))\n",
    "# F_y = np.array((y, 3*y))\n",
    "# c = (b-F_y).T*i[1]\n",
    "# CUT = c[0] + c[1]\n",
    "# print(CUT)\n",
    "# masterProblem.addConstraint(V >= CUT)\n",
    "# masterProblem.solve()\n",
    "# a = masterProblem.getSolution(y)\n",
    "# b = masterProblem.getObjVal()"
   ]
  },
  {
   "cell_type": "code",
   "execution_count": null,
   "metadata": {},
   "outputs": [],
   "source": []
  }
 ],
 "metadata": {
  "kernelspec": {
   "display_name": "Python 3 (ipykernel)",
   "language": "python",
   "name": "python3"
  },
  "language_info": {
   "codemirror_mode": {
    "name": "ipython",
    "version": 3
   },
   "file_extension": ".py",
   "mimetype": "text/x-python",
   "name": "python",
   "nbconvert_exporter": "python",
   "pygments_lexer": "ipython3",
   "version": "3.10.12"
  }
 },
 "nbformat": 4,
 "nbformat_minor": 4
}
